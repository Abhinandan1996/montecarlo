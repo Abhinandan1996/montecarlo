{
 "cells": [
  {
   "cell_type": "markdown",
   "source": [
    "# Introduction\n",
    "Monte Carlo simulation is a computerized mathematical technique to generate random sample data based on some known distribution for numerical experiments.  \n",
    "\n",
    "Using the Monte Carlo analysis, we can run the program 100’s or even 1000’s of times and we will get a distribution of potential results. This distribution can inform the likelihood of preferred results upto a certain range.  \n"
    "\n",
    "It is a technique used to understand the impact of risk and uncertainty in prediction and forecasting models.  \n",
    "\n",
    "A Monte Carlo simulation can be used to tackle a range of problems in virtually every field such as finance, engineering, supply chain, and science. It is also referred to as a multiple probability simulation.\n"
   ],
   "metadata": {}
  },
  {
   "cell_type": "markdown",
   "source": [
    "# Flowchart\n",
    "![picture 1](https://i.imgur.com/BB2YqtQ.jpg)  \n"
   ],
   "metadata": {}
  },
  {
   "cell_type": "markdown",
   "source": [
    "Firstly we will import the required python libraries."
   ],
   "metadata": {}
  },
  {
   "cell_type": "code",
   "execution_count": 21,
   "source": [
    "import pandas as pd\n",
    "import numpy as np\n",
    "import seaborn as sns\n",
    "\n",
    "sns.set_style('whitegrid')"
   ],
   "outputs": [],
   "metadata": {}
  },
  {
   "cell_type": "markdown",
   "source": [
    "now we put the mean in 0% to 200%,for example, 100% and standard deviation and size of the data set."
   ],
   "metadata": {}
  },
  {
   "cell_type": "code",
   "execution_count": 22,
   "source": [
    "avg = 1\n",
    "std_dev = .1\n",
    "num_reps = 500\n",
    "num_simulations = 1000"
   ],
   "outputs": [],
   "metadata": {}
  },
  {
   "cell_type": "markdown",
   "source": [
    "now we will create a random dataset in normal distribution curve"
   ],
   "metadata": {}
  },
  {
   "cell_type": "code",
   "execution_count": 23,
   "source": [
    "pct_to_target = np.random.normal(avg, std_dev, num_reps).round(2)"
   ],
   "outputs": [],
   "metadata": {}
  },
  {
   "cell_type": "markdown",
   "source": [
    "Then we will use the historical data and the respective probaility of data and create a random table with repect to both."
   ],
   "metadata": {}
  },
  {
   "cell_type": "code",
   "execution_count": 24,
   "source": [
    "sales_target_values = [75_000, 100_000, 200_000, 300_000, 400_000, 500_000]\n",
    "sales_target_prob = [.3, .3, .2, .1, .05, .05]\n",
    "sales_target = np.random.choice(sales_target_values, num_reps, p=sales_target_prob)"
   ],
   "outputs": [],
   "metadata": {}
  },
  {
   "cell_type": "markdown",
   "source": [
    "With the above data we will create a pandas dataframe."
   ],
   "metadata": {}
  },
  {
   "cell_type": "code",
   "execution_count": 25,
   "source": [
    "df = pd.DataFrame(index=range(num_reps), data={'Pct_To_Target': pct_to_target,\n",
    "                                               'Sales_Target': sales_target})\n",
    "\n",
    "df['Sales'] = df['Pct_To_Target'] * df['Sales_Target']"
   ],
   "outputs": [],
   "metadata": {}
  },
  {
   "cell_type": "markdown",
   "source": [
    "And we will create a function to map the results from the input value from the randomized values."
   ],
   "metadata": {}
  },
  {
   "cell_type": "code",
   "execution_count": 26,
   "source": [
    "def calc_commission_rate(x):\n",
    "    \"\"\" Return the commission rate based on the table:\n",
    "    0-90% = 2%\n",
    "    91-99% = 3%\n",
    "    >= 100 = 4%\n",
    "    \"\"\"\n",
    "    if x <= .90:\n",
    "        return .02\n",
    "    if x <= .99:\n",
    "        return .03\n",
    "    else:\n",
    "        return .04"
   ],
   "outputs": [],
   "metadata": {}
  },
  {
   "cell_type": "markdown",
   "source": [
    "Now we can loop the results until the specific amount confidence is reached with the data."
   ],
   "metadata": {}
  },
  {
   "cell_type": "code",
   "execution_count": 27,
   "source": [
    "# Define a list to keep all the results from each simulation that we want to analyze\n",
    "all_stats = []\n",
    "\n",
    "# Loop through many simulations\n",
    "for i in range(num_simulations):\n",
    "\n",
    "    # Choose random inputs for the sales targets and percent to target\n",
    "    sales_target = np.random.choice(sales_target_values, num_reps, p=sales_target_prob)\n",
    "    pct_to_target = np.random.normal(avg, std_dev, num_reps).round(2)\n",
    "\n",
    "    # Build the dataframe based on the inputs and number of reps\n",
    "    df = pd.DataFrame(index=range(num_reps), data={'Pct_To_Target': pct_to_target,\n",
    "                                                   'Sales_Target': sales_target})\n",
    "\n",
    "    # Back into the sales number using the percent to target rate\n",
    "    df['Sales'] = df['Pct_To_Target'] * df['Sales_Target']\n",
    "\n",
    "    # Determine the commissions rate and calculate it\n",
    "    df['Commission_Rate'] = df['Pct_To_Target'].apply(calc_commission_rate)\n",
    "    df['Commission_Amount'] = df['Commission_Rate'] * df['Sales']\n",
    "\n",
    "    # We want to track sales,commission amounts and sales targets over all the simulations\n",
    "    all_stats.append([df['Sales'].sum().round(0),\n",
    "                      df['Commission_Amount'].sum().round(0),\n",
    "                      df['Sales_Target'].sum().round(0)])"
   ],
   "outputs": [],
   "metadata": {}
  },
  {
   "cell_type": "markdown",
   "source": [
    "now we summarise the results from our created data."
   ],
   "metadata": {}
  },
  {
   "cell_type": "code",
   "execution_count": 28,
   "source": [
    "results_df = pd.DataFrame.from_records(all_stats, columns=['Sales',\n",
    "                                                           'Commission_Amount',\n",
    "                                                           'Sales_Target'])"
   ],
   "outputs": [],
   "metadata": {}
  },
  {
   "cell_type": "code",
   "execution_count": 29,
   "source": [
    "results_df.describe().style.format('{:,}')"
   ],
   "outputs": [
    {
     "output_type": "execute_result",
     "data": {
      "text/html": [
       "<style  type=\"text/css\" >\n",
       "</style><table id=\"T_58f36_\" ><thead>    <tr>        <th class=\"blank level0\" ></th>        <th class=\"col_heading level0 col0\" >Sales</th>        <th class=\"col_heading level0 col1\" >Commission_Amount</th>        <th class=\"col_heading level0 col2\" >Sales_Target</th>    </tr></thead><tbody>\n",
       "                <tr>\n",
       "                        <th id=\"T_58f36_level0_row0\" class=\"row_heading level0 row0\" >count</th>\n",
       "                        <td id=\"T_58f36_row0_col0\" class=\"data row0 col0\" >1,000.0</td>\n",
       "                        <td id=\"T_58f36_row0_col1\" class=\"data row0 col1\" >1,000.0</td>\n",
       "                        <td id=\"T_58f36_row0_col2\" class=\"data row0 col2\" >1,000.0</td>\n",
       "            </tr>\n",
       "            <tr>\n",
       "                        <th id=\"T_58f36_level0_row1\" class=\"row_heading level0 row1\" >mean</th>\n",
       "                        <td id=\"T_58f36_row1_col0\" class=\"data row1 col0\" >83,771,427.5</td>\n",
       "                        <td id=\"T_58f36_row1_col1\" class=\"data row1 col1\" >2,861,825.106</td>\n",
       "                        <td id=\"T_58f36_row1_col2\" class=\"data row1 col2\" >83,760,775.0</td>\n",
       "            </tr>\n",
       "            <tr>\n",
       "                        <th id=\"T_58f36_level0_row2\" class=\"row_heading level0 row2\" >std</th>\n",
       "                        <td id=\"T_58f36_row2_col0\" class=\"data row2 col0\" >2,685,842.1149585596</td>\n",
       "                        <td id=\"T_58f36_row2_col1\" class=\"data row2 col1\" >101,149.94851447645</td>\n",
       "                        <td id=\"T_58f36_row2_col2\" class=\"data row2 col2\" >2,646,399.0538706225</td>\n",
       "            </tr>\n",
       "            <tr>\n",
       "                        <th id=\"T_58f36_level0_row3\" class=\"row_heading level0 row3\" >min</th>\n",
       "                        <td id=\"T_58f36_row3_col0\" class=\"data row3 col0\" >75,224,250.0</td>\n",
       "                        <td id=\"T_58f36_row3_col1\" class=\"data row3 col1\" >2,571,998.0</td>\n",
       "                        <td id=\"T_58f36_row3_col2\" class=\"data row3 col2\" >75,075,000.0</td>\n",
       "            </tr>\n",
       "            <tr>\n",
       "                        <th id=\"T_58f36_level0_row4\" class=\"row_heading level0 row4\" >25%</th>\n",
       "                        <td id=\"T_58f36_row4_col0\" class=\"data row4 col0\" >81,846,062.5</td>\n",
       "                        <td id=\"T_58f36_row4_col1\" class=\"data row4 col1\" >2,789,394.75</td>\n",
       "                        <td id=\"T_58f36_row4_col2\" class=\"data row4 col2\" >81,875,000.0</td>\n",
       "            </tr>\n",
       "            <tr>\n",
       "                        <th id=\"T_58f36_level0_row5\" class=\"row_heading level0 row5\" >50%</th>\n",
       "                        <td id=\"T_58f36_row5_col0\" class=\"data row5 col0\" >83,816,625.0</td>\n",
       "                        <td id=\"T_58f36_row5_col1\" class=\"data row5 col1\" >2,861,022.5</td>\n",
       "                        <td id=\"T_58f36_row5_col2\" class=\"data row5 col2\" >83,800,000.0</td>\n",
       "            </tr>\n",
       "            <tr>\n",
       "                        <th id=\"T_58f36_level0_row6\" class=\"row_heading level0 row6\" >75%</th>\n",
       "                        <td id=\"T_58f36_row6_col0\" class=\"data row6 col0\" >85,591,000.0</td>\n",
       "                        <td id=\"T_58f36_row6_col1\" class=\"data row6 col1\" >2,928,552.5</td>\n",
       "                        <td id=\"T_58f36_row6_col2\" class=\"data row6 col2\" >85,475,000.0</td>\n",
       "            </tr>\n",
       "            <tr>\n",
       "                        <th id=\"T_58f36_level0_row7\" class=\"row_heading level0 row7\" >max</th>\n",
       "                        <td id=\"T_58f36_row7_col0\" class=\"data row7 col0\" >92,588,750.0</td>\n",
       "                        <td id=\"T_58f36_row7_col1\" class=\"data row7 col1\" >3,192,318.0</td>\n",
       "                        <td id=\"T_58f36_row7_col2\" class=\"data row7 col2\" >92,075,000.0</td>\n",
       "            </tr>\n",
       "    </tbody></table>"
      ],
      "text/plain": [
       "<pandas.io.formats.style.Styler at 0x7f1127f20e50>"
      ]
     },
     "metadata": {},
     "execution_count": 29
    }
   ],
   "metadata": {}
  },
  {
   "cell_type": "code",
   "execution_count": 30,
   "source": [
    "sns.displot(results_df['Commission_Amount'])"
   ],
   "outputs": [
    {
     "output_type": "execute_result",
     "data": {
      "text/plain": [
       "<seaborn.axisgrid.FacetGrid at 0x7f1127fe61f0>"
      ]
     },
     "metadata": {},
     "execution_count": 30
    },
    {
     "output_type": "display_data",
     "data": {
      "image/png": "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",
      "text/plain": [
       "<Figure size 360x360 with 1 Axes>"
      ]
     },
     "metadata": {}
    }
   ],
   "metadata": {}
  },
  {
   "cell_type": "markdown",
   "source": [],
   "metadata": {}
  },
  {
   "cell_type": "code",
   "execution_count": null,
   "source": [],
   "outputs": [],
   "metadata": {}
  }
 ],
 "metadata": {
  "orig_nbformat": 4,
  "language_info": {
   "name": "python",
   "version": "3.8.8",
   "mimetype": "text/x-python",
   "codemirror_mode": {
    "name": "ipython",
    "version": 3
   },
   "pygments_lexer": "ipython3",
   "nbconvert_exporter": "python",
   "file_extension": ".py"
  },
  "kernelspec": {
   "name": "python3",
   "display_name": "Python 3.8.8 64-bit ('base': conda)"
  },
  "interpreter": {
   "hash": "bd1763e632aeec85812b2a6f447868b4f1292b5079d0ac37ba6e8a868622e9c5"
  }
 },
 "nbformat": 4,
 "nbformat_minor": 2
}
