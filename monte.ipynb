{
 "cells": [
  {
   "cell_type": "markdown",
   "source": [
    "Firstly we will import the required python libraries."
   ],
   "metadata": {}
  },
  {
   "cell_type": "code",
   "execution_count": 54,
   "source": [
    "import pandas as pd\n",
    "import numpy as np\n",
    "import seaborn as sns\n",
    "\n",
    "sns.set_style('whitegrid')"
   ],
   "outputs": [],
   "metadata": {}
  },
  {
   "cell_type": "markdown",
   "source": [
    "now we put the mean in 0% to 200%,for example, 100% and standard deviation and size of the data set."
   ],
   "metadata": {}
  },
  {
   "cell_type": "code",
   "execution_count": 55,
   "source": [
    "avg = 1\n",
    "std_dev = .1\n",
    "num_reps = 500\n",
    "num_simulations = 1000"
   ],
   "outputs": [],
   "metadata": {}
  },
  {
   "cell_type": "markdown",
   "source": [
    "now we will create a random dataset in normal distribution curve"
   ],
   "metadata": {}
  },
  {
   "cell_type": "code",
   "execution_count": 56,
   "source": [
    "pct_to_target = np.random.normal(avg, std_dev, num_reps).round(2)"
   ],
   "outputs": [],
   "metadata": {}
  },
  {
   "cell_type": "markdown",
   "source": [
    "Then we will use the historical data and the respective probaility of data and create a random table with repect to both."
   ],
   "metadata": {}
  },
  {
   "cell_type": "code",
   "execution_count": 57,
   "source": [
    "sales_target_values = [75_000, 100_000, 200_000, 300_000, 400_000, 500_000]\n",
    "sales_target_prob = [.3, .3, .2, .1, .05, .05]\n",
    "sales_target = np.random.choice(sales_target_values, num_reps, p=sales_target_prob)"
   ],
   "outputs": [],
   "metadata": {}
  },
  {
   "cell_type": "markdown",
   "source": [
    "With the above data we will create a pandas dataframe."
   ],
   "metadata": {}
  },
  {
   "cell_type": "code",
   "execution_count": 58,
   "source": [
    "df = pd.DataFrame(index=range(num_reps), data={'Pct_To_Target': pct_to_target,\n",
    "                                               'Sales_Target': sales_target})\n",
    "\n",
    "df['Sales'] = df['Pct_To_Target'] * df['Sales_Target']"
   ],
   "outputs": [],
   "metadata": {}
  },
  {
   "cell_type": "markdown",
   "source": [
    "And we will create a function to map the results from the input value from the randomized values."
   ],
   "metadata": {}
  },
  {
   "cell_type": "code",
   "execution_count": 59,
   "source": [
    "def calc_commission_rate(x):\n",
    "    \"\"\" Return the commission rate based on the table:\n",
    "    0-90% = 2%\n",
    "    91-99% = 3%\n",
    "    >= 100 = 4%\n",
    "    \"\"\"\n",
    "    if x <= .90:\n",
    "        return .02\n",
    "    if x <= .99:\n",
    "        return .03\n",
    "    else:\n",
    "        return .04"
   ],
   "outputs": [],
   "metadata": {}
  },
  {
   "cell_type": "markdown",
   "source": [
    "Now we can loop the results until the specific amount confidence is reached with the data."
   ],
   "metadata": {}
  },
  {
   "cell_type": "code",
   "execution_count": 60,
   "source": [
    "# Define a list to keep all the results from each simulation that we want to analyze\n",
    "all_stats = []\n",
    "\n",
    "# Loop through many simulations\n",
    "for i in range(num_simulations):\n",
    "\n",
    "    # Choose random inputs for the sales targets and percent to target\n",
    "    sales_target = np.random.choice(sales_target_values, num_reps, p=sales_target_prob)\n",
    "    pct_to_target = np.random.normal(avg, std_dev, num_reps).round(2)\n",
    "\n",
    "    # Build the dataframe based on the inputs and number of reps\n",
    "    df = pd.DataFrame(index=range(num_reps), data={'Pct_To_Target': pct_to_target,\n",
    "                                                   'Sales_Target': sales_target})\n",
    "\n",
    "    # Back into the sales number using the percent to target rate\n",
    "    df['Sales'] = df['Pct_To_Target'] * df['Sales_Target']\n",
    "\n",
    "    # Determine the commissions rate and calculate it\n",
    "    df['Commission_Rate'] = df['Pct_To_Target'].apply(calc_commission_rate)\n",
    "    df['Commission_Amount'] = df['Commission_Rate'] * df['Sales']\n",
    "\n",
    "    # We want to track sales,commission amounts and sales targets over all the simulations\n",
    "    all_stats.append([df['Sales'].sum().round(0),\n",
    "                      df['Commission_Amount'].sum().round(0),\n",
    "                      df['Sales_Target'].sum().round(0)])"
   ],
   "outputs": [],
   "metadata": {}
  },
  {
   "cell_type": "markdown",
   "source": [
    "now we summarise the results from our created data."
   ],
   "metadata": {}
  },
  {
   "cell_type": "code",
   "execution_count": 61,
   "source": [
    "results_df = pd.DataFrame.from_records(all_stats, columns=['Sales',\n",
    "                                                           'Commission_Amount',\n",
    "                                                           'Sales_Target'])"
   ],
   "outputs": [],
   "metadata": {}
  },
  {
   "cell_type": "code",
   "execution_count": 62,
   "source": [
    "results_df.describe().style.format('{:,}')"
   ],
   "outputs": [
    {
     "output_type": "execute_result",
     "data": {
      "text/html": [
       "<style  type=\"text/css\" >\n",
       "</style><table id=\"T_3ba33_\" ><thead>    <tr>        <th class=\"blank level0\" ></th>        <th class=\"col_heading level0 col0\" >Sales</th>        <th class=\"col_heading level0 col1\" >Commission_Amount</th>        <th class=\"col_heading level0 col2\" >Sales_Target</th>    </tr></thead><tbody>\n",
       "                <tr>\n",
       "                        <th id=\"T_3ba33_level0_row0\" class=\"row_heading level0 row0\" >count</th>\n",
       "                        <td id=\"T_3ba33_row0_col0\" class=\"data row0 col0\" >1,000.0</td>\n",
       "                        <td id=\"T_3ba33_row0_col1\" class=\"data row0 col1\" >1,000.0</td>\n",
       "                        <td id=\"T_3ba33_row0_col2\" class=\"data row0 col2\" >1,000.0</td>\n",
       "            </tr>\n",
       "            <tr>\n",
       "                        <th id=\"T_3ba33_level0_row1\" class=\"row_heading level0 row1\" >mean</th>\n",
       "                        <td id=\"T_3ba33_row1_col0\" class=\"data row1 col0\" >83,683,051.5</td>\n",
       "                        <td id=\"T_3ba33_row1_col1\" class=\"data row1 col1\" >2,857,625.891</td>\n",
       "                        <td id=\"T_3ba33_row1_col2\" class=\"data row1 col2\" >83,671,600.0</td>\n",
       "            </tr>\n",
       "            <tr>\n",
       "                        <th id=\"T_3ba33_level0_row2\" class=\"row_heading level0 row2\" >std</th>\n",
       "                        <td id=\"T_3ba33_row2_col0\" class=\"data row2 col0\" >2,765,380.283810288</td>\n",
       "                        <td id=\"T_3ba33_row2_col1\" class=\"data row2 col1\" >105,323.99481634368</td>\n",
       "                        <td id=\"T_3ba33_row2_col2\" class=\"data row2 col2\" >2,710,509.23265358</td>\n",
       "            </tr>\n",
       "            <tr>\n",
       "                        <th id=\"T_3ba33_level0_row3\" class=\"row_heading level0 row3\" >min</th>\n",
       "                        <td id=\"T_3ba33_row3_col0\" class=\"data row3 col0\" >75,157,000.0</td>\n",
       "                        <td id=\"T_3ba33_row3_col1\" class=\"data row3 col1\" >2,571,620.0</td>\n",
       "                        <td id=\"T_3ba33_row3_col2\" class=\"data row3 col2\" >74,975,000.0</td>\n",
       "            </tr>\n",
       "            <tr>\n",
       "                        <th id=\"T_3ba33_level0_row4\" class=\"row_heading level0 row4\" >25%</th>\n",
       "                        <td id=\"T_3ba33_row4_col0\" class=\"data row4 col0\" >81,773,000.0</td>\n",
       "                        <td id=\"T_3ba33_row4_col1\" class=\"data row4 col1\" >2,783,407.5</td>\n",
       "                        <td id=\"T_3ba33_row4_col2\" class=\"data row4 col2\" >81,793,750.0</td>\n",
       "            </tr>\n",
       "            <tr>\n",
       "                        <th id=\"T_3ba33_level0_row5\" class=\"row_heading level0 row5\" >50%</th>\n",
       "                        <td id=\"T_3ba33_row5_col0\" class=\"data row5 col0\" >83,638,875.0</td>\n",
       "                        <td id=\"T_3ba33_row5_col1\" class=\"data row5 col1\" >2,857,778.5</td>\n",
       "                        <td id=\"T_3ba33_row5_col2\" class=\"data row5 col2\" >83,550,000.0</td>\n",
       "            </tr>\n",
       "            <tr>\n",
       "                        <th id=\"T_3ba33_level0_row6\" class=\"row_heading level0 row6\" >75%</th>\n",
       "                        <td id=\"T_3ba33_row6_col0\" class=\"data row6 col0\" >85,524,875.0</td>\n",
       "                        <td id=\"T_3ba33_row6_col1\" class=\"data row6 col1\" >2,929,190.0</td>\n",
       "                        <td id=\"T_3ba33_row6_col2\" class=\"data row6 col2\" >85,556,250.0</td>\n",
       "            </tr>\n",
       "            <tr>\n",
       "                        <th id=\"T_3ba33_level0_row7\" class=\"row_heading level0 row7\" >max</th>\n",
       "                        <td id=\"T_3ba33_row7_col0\" class=\"data row7 col0\" >91,945,750.0</td>\n",
       "                        <td id=\"T_3ba33_row7_col1\" class=\"data row7 col1\" >3,256,620.0</td>\n",
       "                        <td id=\"T_3ba33_row7_col2\" class=\"data row7 col2\" >92,125,000.0</td>\n",
       "            </tr>\n",
       "    </tbody></table>"
      ],
      "text/plain": [
       "<pandas.io.formats.style.Styler at 0x7f0b375b9430>"
      ]
     },
     "metadata": {},
     "execution_count": 62
    }
   ],
   "metadata": {}
  },
  {
   "cell_type": "code",
   "execution_count": 64,
   "source": [
    "sns.displot(results_df['Commission_Amount'])"
   ],
   "outputs": [
    {
     "output_type": "execute_result",
     "data": {
      "text/plain": [
       "<seaborn.axisgrid.FacetGrid at 0x7f0b2fc26b20>"
      ]
     },
     "metadata": {},
     "execution_count": 64
    },
    {
     "output_type": "display_data",
     "data": {
      "image/png": "[encoded data removed]",
      "text/plain": [
       "<Figure size 360x360 with 1 Axes>"
      ]
     },
     "metadata": {}
    }
   ],
   "metadata": {}
  },
  {
   "cell_type": "markdown",
   "source": [],
   "metadata": {}
  }
 ],
 "metadata": {
  "orig_nbformat": 4,
  "language_info": {
   "name": "python",
   "version": "3.8.8",
   "mimetype": "text/x-python",
   "codemirror_mode": {
    "name": "ipython",
    "version": 3
   },
   "pygments_lexer": "ipython3",
   "nbconvert_exporter": "python",
   "file_extension": ".py"
  },
  "kernelspec": {
   "name": "python3",
   "display_name": "Python 3.8.8 64-bit ('base': conda)"
  },
  "interpreter": {
   "hash": "bd1763e632aeec85812b2a6f447868b4f1292b5079d0ac37ba6e8a868622e9c5"
  }
 },
 "nbformat": 4,
 "nbformat_minor": 2
}
